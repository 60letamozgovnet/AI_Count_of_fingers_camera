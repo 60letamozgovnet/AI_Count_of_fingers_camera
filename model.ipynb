{
  "cells": [
    {
      "cell_type": "code",
      "execution_count": null,
      "metadata": {
        "id": "gGS5quh4npHx"
      },
      "outputs": [],
      "source": [
        "import matplotlib.pyplot as plt\n",
        "import numpy as np\n",
        "import tensorflow as tf\n",
        "from tensorflow.keras import models, layers, regularizers\n",
        "from tensorflow.keras.utils import to_categorical\n",
        "from tensorflow.keras.callbacks import ReduceLROnPlateau, EarlyStopping\n",
        "from sklearn.metrics import accuracy_score\n",
        "from sklearn.model_selection import train_test_split\n",
        "import json\n",
        "import cv2\n",
        "import keras"
      ]
    },
    {
      "cell_type": "code",
      "execution_count": null,
      "metadata": {
        "id": "3Hle_SuYoSGd",
        "colab": {
          "base_uri": "https://localhost:8080/"
        },
        "outputId": "40b17243-ea49-4129-fd6c-cf50adefbed7"
      },
      "outputs": [
        {
          "output_type": "stream",
          "name": "stdout",
          "text": [
            "Mounted at /content/drive\n"
          ]
        }
      ],
      "source": [
        "from google.colab import drive\n",
        "drive.mount('/content/drive')"
      ]
    },
    {
      "cell_type": "code",
      "execution_count": null,
      "metadata": {
        "id": "ATp3GBti0z8H"
      },
      "outputs": [],
      "source": [
        "fold = r'/content/drive/MyDrive/Модель МО с использованием КЗ ИКБ-34/Обучение Модели МО/' #Может быть любой другой путь, главное, чтобы там были data{i}.json"
      ]
    },
    {
      "cell_type": "code",
      "execution_count": null,
      "metadata": {
        "id": "ctQswXxcnpHz"
      },
      "outputs": [],
      "source": [
        "# data1 = {\n",
        "#          'data': [],\n",
        "#      'count_of_fingers': []\n",
        "#  }\n",
        "\n",
        "#  for i in range(19):\n",
        "#      with open(f\"{fold}data{i}.json\", 'r', encoding='utf-8') as f:\n",
        "#          data_json = json.load(f)\n",
        "#          data1['data'].extend(data_json['data'])\n",
        "#          data1['count_of_fingers'].extend(data_json['count_of_fingers'])"
      ]
    },
    {
      "cell_type": "code",
      "execution_count": null,
      "metadata": {
        "id": "eBQs4MTOnpH0"
      },
      "outputs": [],
      "source": [
        "#  data2 = {\n",
        "#      'data': [],\n",
        "#      'count_of_fingers': []\n",
        "#  }\n",
        "\n",
        "#  for i in range(19, 25):\n",
        "#      with open(f\"{fold}data{i}.json\", 'r', encoding='utf-8') as f:\n",
        "#          data_json = json.load(f)\n",
        "#          data2['data'].extend(data_json['data'])\n",
        "#          data2['count_of_fingers'].extend(data_json['count_of_fingers'])"
      ]
    },
    {
      "cell_type": "code",
      "execution_count": null,
      "metadata": {
        "id": "bcghlWpGnpH0"
      },
      "outputs": [],
      "source": [
        "#  data3 = {\n",
        "#      'data': [],\n",
        "#      'count_of_fingers': []\n",
        "#  }\n",
        "\n",
        "#  for i in range(25, 33):\n",
        "#      with open(f\"{fold}data{i}.json\", 'r', encoding='utf-8') as f:\n",
        "#          data_json = json.load(f)\n",
        "#          data3['data'].extend(data_json['data'])\n",
        "#          data3['count_of_fingers'].extend(data_json['count_of_fingers'])\n",
        "data = {\n",
        "    'data': [],\n",
        "    'count_of_fingers': []\n",
        "}\n",
        "\n",
        "for i in range(33):\n",
        "    with open(f\"{fold}data{i}.json\", 'r', encoding='utf-8') as f:\n",
        "        data_json = json.load(f)\n",
        "        data['data'].extend(data_json['data'])\n",
        "        data['count_of_fingers'].extend(data_json['count_of_fingers'])"
      ]
    },
    {
      "cell_type": "code",
      "execution_count": null,
      "metadata": {
        "id": "mGyx7TMknpH1",
        "colab": {
          "base_uri": "https://localhost:8080/"
        },
        "outputId": "3efa643c-75d9-4e03-c21c-3098f7630bc7"
      },
      "outputs": [
        {
          "output_type": "stream",
          "name": "stdout",
          "text": [
            "10468\n"
          ]
        }
      ],
      "source": [
        "# print(data1['data'][0])\n",
        "# print(data1['count_of_fingers'][0])\n",
        "print(len(data['data']))\n",
        "# print(len(data1['data']))"
      ]
    },
    {
      "cell_type": "code",
      "execution_count": null,
      "metadata": {
        "id": "AIW0CJQnnpH2"
      },
      "outputs": [],
      "source": [
        "# print(len(data2['data']))"
      ]
    },
    {
      "cell_type": "code",
      "execution_count": null,
      "metadata": {
        "id": "PZe0j87qnpH2"
      },
      "outputs": [],
      "source": [
        "# print(len(data3['data']))"
      ]
    },
    {
      "cell_type": "code",
      "execution_count": null,
      "metadata": {
        "id": "MzDL5RkzNdmu"
      },
      "outputs": [],
      "source": [
        "# data = {\n",
        "#      'data_new' : [],\n",
        "#      'data': [],\n",
        "#      'cnt': []\n",
        "# }"
      ]
    },
    {
      "cell_type": "code",
      "execution_count": null,
      "metadata": {
        "id": "RdmnZGLHN5t5"
      },
      "outputs": [],
      "source": [
        "# data['data'] = data1['data'] + data2['data'] + data3['data']\n",
        "# data['cnt'] = data1['count_of_fingers'] + data2['count_of_fingers'] + data3['count_of_fingers']"
      ]
    },
    {
      "cell_type": "code",
      "execution_count": null,
      "metadata": {
        "id": "tnfWQBU4Z186"
      },
      "outputs": [],
      "source": [
        "# data['data'] = np.abs(data['data'])\n",
        "data['data'] = np.array(data['data'])\n",
        "data['count_of_fingers'] = np.array(data['count_of_fingers'])\n",
        "data['data'] = np.abs(data['data'])\n",
        "data['data_new'] = []"
      ]
    },
    {
      "cell_type": "code",
      "execution_count": null,
      "metadata": {
        "id": "gnI9VsyxY6sI"
      },
      "outputs": [],
      "source": [
        "# for i in range(data['data'].shape[0]):\n",
        "#     matr = data['data'][i]\n",
        "#     gray = (255 - (matr * 255)).astype(np.uint8)\n",
        "#     (thresh, gray) = cv2.threshold(gray, 128, 255, cv2.THRESH_BINARY | cv2.THRESH_OTSU)\n",
        "\n",
        "#     gray = cv2.resize(gray, (300, 300))\n",
        "#     img = gray / 255.0\n",
        "\n",
        "#     img = np.array(img).reshape(-1, 300 * 300, 1)\n",
        "#     data['data_new'].append(img)\n",
        "# Предобработка данных\n",
        "for i in range(data['data'].shape[0]):\n",
        "    matr = data['data'][i]\n",
        "    gray = (255 - (matr * 255)).astype(np.uint8)\n",
        "    (_, gray) = cv2.threshold(gray, 128, 255, cv2.THRESH_BINARY | cv2.THRESH_OTSU)\n",
        "    gray = cv2.resize(gray, (150, 150))\n",
        "    img = gray / 255.0\n",
        "    img = np.array(img).reshape(150, 150, 1)\n",
        "    data['data_new'].append(img)"
      ]
    },
    {
      "cell_type": "code",
      "execution_count": null,
      "metadata": {
        "id": "L5lzdwbMItKf"
      },
      "outputs": [],
      "source": [
        "data['data_new'] = np.array(data['data_new'])"
      ]
    },
    {
      "cell_type": "code",
      "execution_count": null,
      "metadata": {
        "id": "EBGoSde7fdj7",
        "colab": {
          "base_uri": "https://localhost:8080/"
        },
        "outputId": "3a536567-ebaf-4145-a20b-242a6f664b98"
      },
      "outputs": [
        {
          "output_type": "execute_result",
          "data": {
            "text/plain": [
              "(10468, 150, 150, 1)"
            ]
          },
          "metadata": {},
          "execution_count": 14
        }
      ],
      "source": [
        "data['data_new'].shape"
      ]
    },
    {
      "cell_type": "code",
      "execution_count": null,
      "metadata": {
        "id": "0Vj1JLq98F7v"
      },
      "outputs": [],
      "source": [
        "# X_train, X_val, y_train, y_val = train_test_split(data['data_new'], data['cnt'], test_size=0.2, random_state=42, stratify=data['cnt'])\n",
        "# Разделение на обучающую и тестовую выборки\n",
        "X_train, X_val, y_train, y_val = train_test_split(data['data_new'], data['count_of_fingers'], test_size=0.2, random_state=42, stratify=data['count_of_fingers'])"
      ]
    },
    {
      "cell_type": "code",
      "execution_count": null,
      "metadata": {
        "id": "qss0MTQdF3cZ"
      },
      "outputs": [],
      "source": [
        "y_train_oh = to_categorical(y_train, num_classes=6)\n",
        "y_val_oh = to_categorical(y_val, num_classes=6)"
      ]
    },
    {
      "cell_type": "code",
      "source": [
        "# prompt: выведи сколько у обучающих данных в сумме 0 пальцев, 1 палец, 2 пальца и т.п. (ключ [count_of_fingers])\n",
        "\n",
        "from collections import Counter\n",
        "\n",
        "finger_counts = Counter(data['count_of_fingers'])\n",
        "\n",
        "for count, frequency in finger_counts.items():\n",
        "    print(f\"Number of images with {count} fingers: {frequency}\")"
      ],
      "metadata": {
        "id": "OSoCjwdpTdOV",
        "colab": {
          "base_uri": "https://localhost:8080/"
        },
        "outputId": "e8d03a2b-f89a-4646-d31c-f15862793671"
      },
      "execution_count": null,
      "outputs": [
        {
          "output_type": "stream",
          "name": "stdout",
          "text": [
            "Number of images with 1 fingers: 2036\n",
            "Number of images with 2 fingers: 2196\n",
            "Number of images with 3 fingers: 1748\n",
            "Number of images with 4 fingers: 1608\n",
            "Number of images with 5 fingers: 1592\n",
            "Number of images with 0 fingers: 1288\n"
          ]
        }
      ]
    },
    {
      "cell_type": "code",
      "execution_count": null,
      "metadata": {
        "id": "hoj4Rozi-5J5"
      },
      "outputs": [],
      "source": [
        "# input_shape = X_train.shape"
      ]
    },
    {
      "cell_type": "code",
      "execution_count": null,
      "metadata": {
        "id": "nzpxHk58_C77"
      },
      "outputs": [],
      "source": [
        "# input_shape"
      ]
    },
    {
      "cell_type": "code",
      "execution_count": null,
      "metadata": {
        "id": "XxObr7z-npH5"
      },
      "outputs": [],
      "source": [
        "# # inp = layers.Input(shape=(input_shape[1], input_shape[2], input_shape[3], ))\n",
        "# inp = layers.Input(shape=input_shape)\n",
        "\n",
        "# conv1 = layers.Conv2D(16, (3, 3), activation=None, padding='same', kernel_regularizer=regularizers.l2(0.002))(inp)\n",
        "# conv1 = layers.BatchNormalization()(conv1)  # Нормализация\n",
        "# conv1 = layers.ReLU()(conv1)  # ReLU после нормализации\n",
        "# conv1 = layers.Conv2D(16, (2, 2), activation=None, padding='same', kernel_regularizer=regularizers.l2(0.002))(conv1)\n",
        "# conv1 = layers.BatchNormalization()(conv1)  # Нормализация\n",
        "# conv1 = layers.ReLU()(conv1)  # ReLU после нормализации\n",
        "# pool1 = layers.MaxPooling2D((2, 2), padding ='same')(conv1)\n",
        "# drout1 = layers.Dropout(0.3)(pool1)\n",
        "\n",
        "# conv2 = layers.Conv2D(32, (2, 2), activation=None, padding='same')(drout1)\n",
        "# conv2 = layers.BatchNormalization()(conv2)\n",
        "# conv2 = layers.ReLU()(conv2)\n",
        "# conv2 = layers.Conv2D(32, (2, 2), activation=None, padding='same')(conv2)\n",
        "# conv2 = layers.BatchNormalization()(conv2)\n",
        "# conv2 = layers.ReLU()(conv2)\n",
        "# pool2 = layers.MaxPooling2D((2, 2), padding ='same')(conv2)\n",
        "# drout2 = layers.Dropout(0.5)(pool2)\n",
        "\n",
        "# transp3 = layers.Conv2DTranspose(16, (3, 3), strides=(2, 2), padding='same')(drout2)\n",
        "# upsample = layers.UpSampling2D(size=(2, 2))(drout2)\n",
        "# conv10 = layers.Conv2D(16, (3, 3), padding='same')(upsample)\n",
        "# concat1 = layers.concatenate([transp3, conv10])\n",
        "# conv8 = layers.Conv2D(32, (2, 2), activation=None, padding='same', kernel_regularizer=regularizers.l2(0.003))(concat1)\n",
        "# conv8 = layers.BatchNormalization()(conv8)\n",
        "# conv8 = layers.ReLU()(conv8)\n",
        "# conv8 = layers.Conv2D(16, (2, 2), activation=None, padding='same', kernel_regularizer=regularizers.l2(0.002))(conv8)\n",
        "# conv8 = layers.BatchNormalization()(conv8)\n",
        "# conv8 = layers.ReLU()(conv8)\n",
        "# drout3 = layers.Dropout(0.4)(conv8)\n",
        "\n",
        "# flat = layers.Flatten()(drout3)\n",
        "\n",
        "# dense1 = layers.Dense(16, activation=None, kernel_regularizer=regularizers.l2(0.001))(flat)\n",
        "# dense1 = layers.BatchNormalization()(dense1)\n",
        "# dense1 = layers.ReLU()(dense1)\n",
        "\n",
        "# dense2 = layers.Dense(32, activation=None)(dense1)\n",
        "# dense2 = layers.BatchNormalization()(dense2)\n",
        "# dense2 = layers.ReLU()(dense2)\n",
        "\n",
        "# dropout3 = layers.Dropout(0.5)(dense2)\n",
        "\n",
        "# dense3 = layers.Dense(64, activation=None)(dropout3)\n",
        "# dense3 = layers.BatchNormalization()(dense3)\n",
        "# dense3 = layers.ReLU()(dense3)\n",
        "\n",
        "# dropout1 = layers.Dropout(0.5)(dense3)\n",
        "\n",
        "# dense4 = layers.Dense(128, activation=None, kernel_regularizer=regularizers.l2(0.002))(dropout1)\n",
        "# dense4 = layers.BatchNormalization()(dense4)\n",
        "# dense4 = layers.ReLU()(dense4)\n",
        "\n",
        "# dropout2 = layers.Dropout(0.4)(dense4)\n",
        "\n",
        "# dense7 = layers.Dense(64, activation=None, kernel_regularizer=regularizers.l2(0.002))(dropout2)\n",
        "# dense7 = layers.BatchNormalization()(dense7)\n",
        "# dense7 = layers.ReLU()(dense7)\n",
        "\n",
        "# dense8 = layers.Dense(32, activation=None)(dense7)\n",
        "# dense8 = layers.BatchNormalization()(dense8)\n",
        "# dense8 = layers.ReLU()(dense8)\n",
        "\n",
        "# dense9 = layers.Dense(16, activation=None)(dense8)\n",
        "# dense9 = layers.BatchNormalization()(dense9)\n",
        "# dense9 = layers.ReLU()(dense9)\n",
        "\n",
        "# out = layers.Dense(6, activation='softmax')(dense9)\n",
        "# Архитектура модели\n",
        "inp = layers.Input(shape=(150, 150, 1))\n",
        "\n",
        "conv1 = layers.Conv2D(32, (3, 3), activation='relu', padding='same', kernel_regularizer=regularizers.l2(0.0005))(inp)\n",
        "conv1 = layers.BatchNormalization()(conv1)\n",
        "conv1 = layers.Conv2D(32, (3, 3), activation='relu', padding='same', kernel_regularizer=regularizers.l2(0.0005))(conv1)\n",
        "conv1 = layers.BatchNormalization()(conv1)\n",
        "pool1 = layers.MaxPooling2D((2, 2))(conv1)\n",
        "\n",
        "conv2 = layers.Conv2D(64, (3, 3), activation='relu', padding='same', kernel_regularizer=regularizers.l2(0.0005))(pool1)\n",
        "conv2 = layers.BatchNormalization()(conv2)\n",
        "conv2 = layers.Conv2D(64, (3, 3), activation='relu', padding='same', kernel_regularizer=regularizers.l2(0.0005))(conv2)\n",
        "conv2 = layers.BatchNormalization()(conv2)\n",
        "pool2 = layers.MaxPooling2D((2, 2))(conv2)\n",
        "\n",
        "conv3 = layers.Conv2D(128, (3, 3), activation='relu', padding='same', kernel_regularizer=regularizers.l2(0.0005))(pool2)\n",
        "conv3 = layers.BatchNormalization()(conv3)\n",
        "conv3 = layers.Conv2D(128, (3, 3), activation='relu', padding='same', kernel_regularizer=regularizers.l2(0.0005))(conv3)\n",
        "conv3 = layers.BatchNormalization()(conv3)\n",
        "pool3 = layers.MaxPooling2D((2, 2))(conv3)\n",
        "\n",
        "attention = layers.GlobalAveragePooling2D()(pool3)\n",
        "attention = layers.Dense(128, activation='relu')(attention)\n",
        "attention = layers.Dense(128, activation='sigmoid')(attention)\n",
        "attention_output = layers.Multiply()([pool3, attention])\n",
        "\n",
        "flat = layers.Flatten()(attention_output)\n",
        "\n",
        "dense1 = layers.Dense(128, activation='relu', kernel_regularizer=regularizers.l2(0.001))(flat)\n",
        "dense1 = layers.Dropout(0.5)(dense1)\n",
        "\n",
        "dense2 = layers.Dense(64, activation='relu', kernel_regularizer=regularizers.l2(0.001))(dense1)\n",
        "dense2 = layers.Dropout(0.5)(dense2)\n",
        "\n",
        "out = layers.Dense(6, activation='softmax')(dense2)\n"
      ]
    },
    {
      "cell_type": "code",
      "execution_count": null,
      "metadata": {
        "id": "tqIMcZdBnpH5"
      },
      "outputs": [],
      "source": [
        "# bknd.clear_session()\n",
        "model = models.Model(inputs=inp, outputs=out)\n"
      ]
    },
    {
      "cell_type": "code",
      "execution_count": null,
      "metadata": {
        "colab": {
          "base_uri": "https://localhost:8080/"
        },
        "id": "lCEjCuuqnpH6",
        "outputId": "b7c9e03c-d699-44e8-d73a-f4e1a8584d8e"
      },
      "outputs": [
        {
          "output_type": "stream",
          "name": "stdout",
          "text": [
            "Model: \"model\"\n",
            "__________________________________________________________________________________________________\n",
            " Layer (type)                Output Shape                 Param #   Connected to                  \n",
            "==================================================================================================\n",
            " input_1 (InputLayer)        [(None, 150, 150, 1)]        0         []                            \n",
            "                                                                                                  \n",
            " conv2d (Conv2D)             (None, 150, 150, 32)         320       ['input_1[0][0]']             \n",
            "                                                                                                  \n",
            " batch_normalization (Batch  (None, 150, 150, 32)         128       ['conv2d[0][0]']              \n",
            " Normalization)                                                                                   \n",
            "                                                                                                  \n",
            " conv2d_1 (Conv2D)           (None, 150, 150, 32)         9248      ['batch_normalization[0][0]'] \n",
            "                                                                                                  \n",
            " batch_normalization_1 (Bat  (None, 150, 150, 32)         128       ['conv2d_1[0][0]']            \n",
            " chNormalization)                                                                                 \n",
            "                                                                                                  \n",
            " max_pooling2d (MaxPooling2  (None, 75, 75, 32)           0         ['batch_normalization_1[0][0]'\n",
            " D)                                                                 ]                             \n",
            "                                                                                                  \n",
            " conv2d_2 (Conv2D)           (None, 75, 75, 64)           18496     ['max_pooling2d[0][0]']       \n",
            "                                                                                                  \n",
            " batch_normalization_2 (Bat  (None, 75, 75, 64)           256       ['conv2d_2[0][0]']            \n",
            " chNormalization)                                                                                 \n",
            "                                                                                                  \n",
            " conv2d_3 (Conv2D)           (None, 75, 75, 64)           36928     ['batch_normalization_2[0][0]'\n",
            "                                                                    ]                             \n",
            "                                                                                                  \n",
            " batch_normalization_3 (Bat  (None, 75, 75, 64)           256       ['conv2d_3[0][0]']            \n",
            " chNormalization)                                                                                 \n",
            "                                                                                                  \n",
            " max_pooling2d_1 (MaxPoolin  (None, 37, 37, 64)           0         ['batch_normalization_3[0][0]'\n",
            " g2D)                                                               ]                             \n",
            "                                                                                                  \n",
            " conv2d_4 (Conv2D)           (None, 37, 37, 128)          73856     ['max_pooling2d_1[0][0]']     \n",
            "                                                                                                  \n",
            " batch_normalization_4 (Bat  (None, 37, 37, 128)          512       ['conv2d_4[0][0]']            \n",
            " chNormalization)                                                                                 \n",
            "                                                                                                  \n",
            " conv2d_5 (Conv2D)           (None, 37, 37, 128)          147584    ['batch_normalization_4[0][0]'\n",
            "                                                                    ]                             \n",
            "                                                                                                  \n",
            " batch_normalization_5 (Bat  (None, 37, 37, 128)          512       ['conv2d_5[0][0]']            \n",
            " chNormalization)                                                                                 \n",
            "                                                                                                  \n",
            " max_pooling2d_2 (MaxPoolin  (None, 18, 18, 128)          0         ['batch_normalization_5[0][0]'\n",
            " g2D)                                                               ]                             \n",
            "                                                                                                  \n",
            " global_average_pooling2d (  (None, 128)                  0         ['max_pooling2d_2[0][0]']     \n",
            " GlobalAveragePooling2D)                                                                          \n",
            "                                                                                                  \n",
            " dense (Dense)               (None, 128)                  16512     ['global_average_pooling2d[0][\n",
            "                                                                    0]']                          \n",
            "                                                                                                  \n",
            " dense_1 (Dense)             (None, 128)                  16512     ['dense[0][0]']               \n",
            "                                                                                                  \n",
            " multiply (Multiply)         (None, 18, 18, 128)          0         ['max_pooling2d_2[0][0]',     \n",
            "                                                                     'dense_1[0][0]']             \n",
            "                                                                                                  \n",
            " flatten (Flatten)           (None, 41472)                0         ['multiply[0][0]']            \n",
            "                                                                                                  \n",
            " dense_2 (Dense)             (None, 128)                  5308544   ['flatten[0][0]']             \n",
            "                                                                                                  \n",
            " dropout (Dropout)           (None, 128)                  0         ['dense_2[0][0]']             \n",
            "                                                                                                  \n",
            " dense_3 (Dense)             (None, 64)                   8256      ['dropout[0][0]']             \n",
            "                                                                                                  \n",
            " dropout_1 (Dropout)         (None, 64)                   0         ['dense_3[0][0]']             \n",
            "                                                                                                  \n",
            " dense_4 (Dense)             (None, 6)                    390       ['dropout_1[0][0]']           \n",
            "                                                                                                  \n",
            "==================================================================================================\n",
            "Total params: 5638438 (21.51 MB)\n",
            "Trainable params: 5637542 (21.51 MB)\n",
            "Non-trainable params: 896 (3.50 KB)\n",
            "__________________________________________________________________________________________________\n"
          ]
        }
      ],
      "source": [
        "model.summary()"
      ]
    },
    {
      "cell_type": "code",
      "execution_count": null,
      "metadata": {
        "id": "DGdWpFqJnpH6"
      },
      "outputs": [],
      "source": [
        "model.compile(\n",
        "    loss='categorical_crossentropy',\n",
        "    optimizer=keras.optimizers.Adam(learning_rate=0.001),\n",
        "    metrics=['accuracy']\n",
        ")"
      ]
    },
    {
      "cell_type": "code",
      "execution_count": null,
      "metadata": {
        "id": "bcRfuiRVnpH6"
      },
      "outputs": [],
      "source": [
        "# reduce_lr = ReduceLROnPlateau(monitor='val_loss', factor=0.1, patience=5, min_lr = 1e-6)\n",
        "# early_stopping = EarlyStopping(monitor='val_loss', patience=10, restore_best_weights=True)\n",
        "# Коллбэки\n",
        "reduce_lr = ReduceLROnPlateau(monitor='val_loss', factor=0.2, patience=3, min_lr=1e-6)\n",
        "early_stopping = EarlyStopping(monitor='val_loss', patience=10, restore_best_weights=True)"
      ]
    },
    {
      "cell_type": "code",
      "execution_count": null,
      "metadata": {
        "colab": {
          "base_uri": "https://localhost:8080/"
        },
        "id": "F-BHGS6SnpH7",
        "outputId": "a88b6479-f1c7-4068-85f7-8190098c3461"
      },
      "outputs": [
        {
          "output_type": "stream",
          "name": "stdout",
          "text": [
            "X_train shape: (8374, 150, 150, 1)\n",
            "y_train shape: (8374, 6)\n",
            "X_val shape: (2094, 150, 150, 1)\n",
            "y_val shape: (2094, 6)\n"
          ]
        }
      ],
      "source": [
        "print(\"X_train shape:\", X_train.shape)\n",
        "print(\"y_train shape:\", y_train_oh.shape)\n",
        "print(\"X_val shape:\", X_val.shape)\n",
        "print(\"y_val shape:\", y_val_oh.shape)\n"
      ]
    },
    {
      "cell_type": "code",
      "execution_count": null,
      "metadata": {
        "id": "HbHtZ0YwnpH8",
        "colab": {
          "base_uri": "https://localhost:8080/"
        },
        "outputId": "d62847e2-7a79-4116-84cb-cdd1f155867d"
      },
      "outputs": [
        {
          "output_type": "stream",
          "name": "stdout",
          "text": [
            "Epoch 1/150\n",
            "262/262 [==============================] - 207s 780ms/step - loss: 2.6655 - accuracy: 0.2028 - val_loss: 2.2987 - val_accuracy: 0.2058 - lr: 0.0010\n",
            "Epoch 2/150\n",
            "262/262 [==============================] - 199s 762ms/step - loss: 2.2088 - accuracy: 0.2160 - val_loss: 2.1174 - val_accuracy: 0.2087 - lr: 0.0010\n",
            "Epoch 3/150\n",
            "262/262 [==============================] - 200s 765ms/step - loss: 2.0628 - accuracy: 0.2284 - val_loss: 2.0202 - val_accuracy: 0.2311 - lr: 0.0010\n",
            "Epoch 4/150\n",
            "262/262 [==============================] - 199s 761ms/step - loss: 1.9452 - accuracy: 0.2367 - val_loss: 1.8889 - val_accuracy: 0.2459 - lr: 0.0010\n",
            "Epoch 5/150\n",
            "262/262 [==============================] - 199s 760ms/step - loss: 1.8596 - accuracy: 0.2818 - val_loss: 1.8391 - val_accuracy: 0.2698 - lr: 0.0010\n",
            "Epoch 6/150\n",
            "262/262 [==============================] - 198s 754ms/step - loss: 1.8113 - accuracy: 0.3229 - val_loss: 2.8245 - val_accuracy: 0.2779 - lr: 0.0010\n",
            "Epoch 7/150\n",
            "262/262 [==============================] - 197s 751ms/step - loss: 1.7440 - accuracy: 0.3842 - val_loss: 2.2443 - val_accuracy: 0.1791 - lr: 0.0010\n",
            "Epoch 8/150\n",
            "262/262 [==============================] - 196s 748ms/step - loss: 1.6674 - accuracy: 0.4445 - val_loss: 2.1331 - val_accuracy: 0.2407 - lr: 0.0010\n",
            "Epoch 9/150\n",
            "262/262 [==============================] - 196s 748ms/step - loss: 1.4330 - accuracy: 0.5388 - val_loss: 1.3844 - val_accuracy: 0.5511 - lr: 2.0000e-04\n",
            "Epoch 10/150\n",
            "262/262 [==============================] - 197s 751ms/step - loss: 1.2883 - accuracy: 0.5857 - val_loss: 1.2813 - val_accuracy: 0.6051 - lr: 2.0000e-04\n",
            "Epoch 11/150\n",
            "262/262 [==============================] - 196s 748ms/step - loss: 1.1874 - accuracy: 0.6254 - val_loss: 1.3958 - val_accuracy: 0.5487 - lr: 2.0000e-04\n",
            "Epoch 12/150\n",
            "262/262 [==============================] - 197s 752ms/step - loss: 1.0911 - accuracy: 0.6781 - val_loss: 1.5638 - val_accuracy: 0.5463 - lr: 2.0000e-04\n",
            "Epoch 13/150\n",
            "262/262 [==============================] - 196s 748ms/step - loss: 1.0085 - accuracy: 0.7234 - val_loss: 1.2316 - val_accuracy: 0.6251 - lr: 2.0000e-04\n",
            "Epoch 14/150\n",
            "262/262 [==============================] - 196s 750ms/step - loss: 0.9342 - accuracy: 0.7556 - val_loss: 1.2699 - val_accuracy: 0.6385 - lr: 2.0000e-04\n",
            "Epoch 15/150\n",
            "262/262 [==============================] - 196s 748ms/step - loss: 0.8770 - accuracy: 0.7847 - val_loss: 1.3946 - val_accuracy: 0.6165 - lr: 2.0000e-04\n",
            "Epoch 16/150\n",
            "262/262 [==============================] - 196s 750ms/step - loss: 0.8230 - accuracy: 0.8050 - val_loss: 1.2675 - val_accuracy: 0.6543 - lr: 2.0000e-04\n",
            "Epoch 17/150\n",
            "262/262 [==============================] - 196s 749ms/step - loss: 0.7252 - accuracy: 0.8551 - val_loss: 1.2448 - val_accuracy: 0.6743 - lr: 4.0000e-05\n",
            "Epoch 18/150\n",
            "262/262 [==============================] - 195s 746ms/step - loss: 0.6700 - accuracy: 0.8700 - val_loss: 1.2459 - val_accuracy: 0.6705 - lr: 4.0000e-05\n",
            "Epoch 19/150\n",
            "262/262 [==============================] - 196s 747ms/step - loss: 0.6484 - accuracy: 0.8789 - val_loss: 1.2576 - val_accuracy: 0.6705 - lr: 4.0000e-05\n",
            "Epoch 20/150\n",
            "262/262 [==============================] - 196s 747ms/step - loss: 0.6105 - accuracy: 0.8917 - val_loss: 1.2595 - val_accuracy: 0.6734 - lr: 8.0000e-06\n",
            "Epoch 21/150\n",
            "262/262 [==============================] - 195s 745ms/step - loss: 0.6071 - accuracy: 0.8937 - val_loss: 1.2722 - val_accuracy: 0.6743 - lr: 8.0000e-06\n",
            "Epoch 22/150\n",
            "262/262 [==============================] - 195s 745ms/step - loss: 0.5969 - accuracy: 0.8979 - val_loss: 1.2709 - val_accuracy: 0.6753 - lr: 8.0000e-06\n",
            "Epoch 23/150\n",
            "262/262 [==============================] - 196s 749ms/step - loss: 0.5971 - accuracy: 0.8971 - val_loss: 1.2719 - val_accuracy: 0.6729 - lr: 1.6000e-06\n"
          ]
        }
      ],
      "source": [
        "history = model.fit(\n",
        "    X_train,\n",
        "    y_train_oh,\n",
        "    epochs = 150,\n",
        "    batch_size = 32,\n",
        "    validation_data = (X_val, y_val_oh),\n",
        "    callbacks = [reduce_lr, early_stopping]\n",
        ")"
      ]
    },
    {
      "cell_type": "code",
      "source": [
        "y_pred = model.predict(X_val)\n",
        "y_pred = np.argmax(y_pred, axis=1)\n",
        "accuracy_score(y_pred, y_val)"
      ],
      "metadata": {
        "id": "o3gpCp5oXzlo",
        "colab": {
          "base_uri": "https://localhost:8080/"
        },
        "outputId": "bd4ac28e-cc09-474e-c2b8-b31f47b1a660"
      },
      "execution_count": null,
      "outputs": [
        {
          "output_type": "stream",
          "name": "stdout",
          "text": [
            "66/66 [==============================] - 8s 123ms/step\n"
          ]
        },
        {
          "output_type": "execute_result",
          "data": {
            "text/plain": [
              "0.625119388729704"
            ]
          },
          "metadata": {},
          "execution_count": 23
        }
      ]
    },
    {
      "cell_type": "code",
      "source": [
        "y_pred = model.predict(X_train)\n",
        "y_pred = np.argmax(y_pred, axis=1)\n",
        "accuracy_score(y_pred, y_train)"
      ],
      "metadata": {
        "id": "yd3zUDTFZV0h",
        "colab": {
          "base_uri": "https://localhost:8080/"
        },
        "outputId": "607b0b38-a701-471a-de9b-32a65a0a3595"
      },
      "execution_count": null,
      "outputs": [
        {
          "output_type": "stream",
          "name": "stdout",
          "text": [
            "262/262 [==============================] - 32s 121ms/step\n"
          ]
        },
        {
          "output_type": "execute_result",
          "data": {
            "text/plain": [
              "0.8359207069500836"
            ]
          },
          "metadata": {},
          "execution_count": 24
        }
      ]
    },
    {
      "cell_type": "code",
      "source": [
        "model.save(fold + 'modelzzz.h5')"
      ],
      "metadata": {
        "id": "-kgFo7la3yBR"
      },
      "execution_count": null,
      "outputs": []
    },
    {
      "cell_type": "code",
      "source": [
        "print(\"TensorFlow version:\", tf.__version__)\n",
        "import sys\n",
        "print(\"Python version:\", sys.version)"
      ],
      "metadata": {
        "id": "WBJkZe9t8uC8",
        "colab": {
          "base_uri": "https://localhost:8080/"
        },
        "outputId": "0e783a2c-f0a0-4187-d27e-4ae356d10349"
      },
      "execution_count": null,
      "outputs": [
        {
          "output_type": "stream",
          "name": "stdout",
          "text": [
            "TensorFlow version: 2.15.0\n",
            "Python version: 3.10.12 (main, Nov  6 2024, 20:22:13) [GCC 11.4.0]\n"
          ]
        }
      ]
    }
  ],
  "metadata": {
    "accelerator": "TPU",
    "colab": {
      "gpuType": "V28",
      "provenance": []
    },
    "kernelspec": {
      "display_name": "Python 3",
      "name": "python3"
    },
    "language_info": {
      "codemirror_mode": {
        "name": "ipython",
        "version": 3
      },
      "file_extension": ".py",
      "mimetype": "text/x-python",
      "name": "python",
      "nbconvert_exporter": "python",
      "pygments_lexer": "ipython3",
      "version": "3.11.8"
    }
  },
  "nbformat": 4,
  "nbformat_minor": 0
}